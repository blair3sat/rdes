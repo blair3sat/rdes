{
 "cells": [
  {
   "cell_type": "code",
   "execution_count": 1,
   "metadata": {},
   "outputs": [],
   "source": [
    "import pandas as pd\n",
    "import matplotlib.pyplot as plt"
   ]
  },
  {
   "cell_type": "code",
   "execution_count": 2,
   "metadata": {},
   "outputs": [],
   "source": [
    "with open('data/NHPC_Profiles-20181008000000-24329') as fi:\n",
    "    hli = 0    # header line index\n",
    "    rep = []\n",
    "    loc_name = ''\n",
    "    loc_id = ''\n",
    "    date = ''\n",
    "    time = ''\n",
    "    \n",
    "    for line in fi:\n",
    "        if hli == 0:\n",
    "            [loc_name, loc_id, date, time] = line.split()\n",
    "            loc_id = loc_id[1:-2]\n",
    "            hli = 1\n",
    "            continue\n",
    "            \n",
    "        elif hli < 4:\n",
    "            hli += 1\n",
    "            continue\n",
    "        \n",
    "        elif line == '===\\n':\n",
    "            ofn = 'data/processed/' + loc_id + '_' + date + '_' + time + '.csv'\n",
    "            if len(rep) > 0 and rep[0] != '\\n':\n",
    "                with open(ofn, 'w') as fo:\n",
    "                    fo.write('Height,Frequency,Density\\n')\n",
    "                    for ol in rep:\n",
    "                        op = ''\n",
    "                        for os in ol.split():\n",
    "                            op += os + ','\n",
    "                        fo.write(op[0:-1] + '\\n')\n",
    "            hli = 0\n",
    "            rep.clear()\n",
    "        else:\n",
    "            rep.append(line)"
   ]
  }
 ],
 "metadata": {
  "kernelspec": {
   "display_name": "Python 3",
   "language": "python",
   "name": "python3"
  },
  "language_info": {
   "codemirror_mode": {
    "name": "ipython",
    "version": 3
   },
   "file_extension": ".py",
   "mimetype": "text/x-python",
   "name": "python",
   "nbconvert_exporter": "python",
   "pygments_lexer": "ipython3",
   "version": "3.6.6"
  }
 },
 "nbformat": 4,
 "nbformat_minor": 2
}
